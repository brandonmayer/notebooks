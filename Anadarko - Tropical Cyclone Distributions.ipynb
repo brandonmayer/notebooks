{
 "metadata": {
  "name": "",
  "signature": "sha256:7a36b324a3907d28720ddbef6c1a4a07ef5cdfede429c786d37f1dd90dd51892"
 },
 "nbformat": 3,
 "nbformat_minor": 0,
 "worksheets": [
  {
   "cells": [
    {
     "cell_type": "code",
     "collapsed": false,
     "input": [
      "from descartes import PolygonPatch\n",
      "from IPython.core.display import Image\n",
      "import json\n",
      "from matplotlib import pyplot\n",
      "from matplotlib.collections import LineCollection, PatchCollection\n",
      "from mpl_toolkits.axes_grid1 import make_axes_locatable, host_axes\n",
      "from mpl_toolkits.axes_grid1.parasite_axes import HostAxesBase\n",
      "from mpl_toolkits.basemap import Basemap\n",
      "import numpy as np\n",
      "from scipy.optimize import fmin_tnc\n",
      "from scipy.stats import gaussian_kde\n",
      "from shapely import wkt\n",
      "from shapely.geometry import LineString, MultiLineString, MultiPoint, Point, Polygon\n",
      "\n",
      "# Turn interactive plotting off\n",
      "plt.ioff()"
     ],
     "language": "python",
     "metadata": {},
     "outputs": []
    },
    {
     "cell_type": "code",
     "collapsed": false,
     "input": [
      "# create a new matplotlib figure and axes instance\n",
      "fig = plt.figure(figsize=(10, 6), dpi=150)\n",
      "ax = fig.add_subplot(1,1,1)"
     ],
     "language": "python",
     "metadata": {},
     "outputs": []
    },
    {
     "cell_type": "code",
     "collapsed": false,
     "input": [
      "# setup Basemap (for plotting only)\n",
      "minx, miny, maxx, maxy = [35, -45, 90, 0]\n",
      "w, h = maxx - minx, maxy - miny\n",
      "m = Basemap(projection='merc',ellps = 'WGS84', resolution='c', lat_ts=0,\n",
      "            llcrnrlon=minx-0.2*w, llcrnrlat=miny-0.2*h, urcrnrlon=maxx+0.2*w, urcrnrlat=maxy+0.2*h)\n",
      "m.drawcoastlines(linewidth=0.2)\n",
      "m.fillcontinents(color='Wheat', lake_color='LightSteelBlue',alpha=0.75)\n",
      "m.drawparallels(np.arange(-80.,81.,5), labels=[1,0,0,0], fontsize=10)\n",
      "m.drawmeridians(np.arange(-180.,181.,10), labels=[0,0,0,1], fontsize=10)\n",
      "m.drawmapboundary(fill_color='LightSteelBlue')\n",
      "\n",
      "# set axes limits to map CRS\n",
      "min_x, min_y = m(minx, miny)\n",
      "max_x, max_y = m(maxx, maxy)\n",
      "corr_w, corr_h = max_x - min_x, max_y - min_y\n",
      "ax.set_xlim(min_x - 0.2 * corr_w, max_x + 0.2 * corr_w)\n",
      "ax.set_ylim(min_y - 0.2 * corr_h, max_y + 0.2 * corr_h)\n",
      "\n",
      "ax.set_aspect(1)"
     ],
     "language": "python",
     "metadata": {},
     "outputs": []
    },
    {
     "cell_type": "markdown",
     "metadata": {},
     "source": [
      "Target point"
     ]
    },
    {
     "cell_type": "code",
     "collapsed": false,
     "input": [
      "# target point, using CM9\n",
      "CM9 = Point(40.6984, -10.7994)\n",
      "CM9_m = Point(m(CM9.x, CM9.y)) # projected\n",
      "m.plot(CM9_m.x, CM9_m.y, 'rs', latlon=False, markersize=8, zorder=8)\n",
      "plt.savefig('001-cm9.png')\n",
      "Image('001-cm9.png') "
     ],
     "language": "python",
     "metadata": {},
     "outputs": []
    },
    {
     "cell_type": "code",
     "collapsed": false,
     "input": [
      "# radius in KM (using Mercator), convert buffer to lonlat for comparison\n",
      "CM9_m_buffer = CM9_m.buffer(1000000.0) # creates a 1000km radius around CM9_m\n",
      "CM9_buffer = Polygon([m(*x, inverse=True) for x in CM9_m_buffer.exterior.coords])\n",
      "\n",
      "# draw on map\n",
      "CM9_patch = PolygonPatch(CM9_m_buffer, fc='#666666', ec='#555555', alpha=0.5, zorder=2)\n",
      "ax.add_patch(CM9_patch)\n",
      "plt.savefig('002-cm9_buffer.png')\n",
      "Image('002-cm9_buffer.png')"
     ],
     "language": "python",
     "metadata": {},
     "outputs": []
    },
    {
     "cell_type": "markdown",
     "metadata": {},
     "source": [
      "Iterate through all the known tracks in Southern Indian Ocean.\n",
      "\n",
      "If any point along track intersects the buffer defined by radius from point, include."
     ]
    },
    {
     "cell_type": "code",
     "collapsed": false,
     "input": [
      "def haversine(lat1, lon1, lat2, lon2):\n",
      " \n",
      "  R = 6372.8 # Earth radius in kilometers\n",
      " \n",
      "  dLat = math.radians(lat2 - lat1)\n",
      "  dLon = math.radians(lon2 - lon1)\n",
      "  lat1 = math.radians(lat1)\n",
      "  lat2 = math.radians(lat2)\n",
      " \n",
      "  a = math.sin(dLat/2)**2 + math.cos(lat1)*math.cos(lat2)*math.sin(dLon/2)**2\n",
      "  c = 2*math.asin(math.sqrt(a))\n",
      " \n",
      "  return R * c"
     ],
     "language": "python",
     "metadata": {},
     "outputs": []
    },
    {
     "cell_type": "code",
     "collapsed": false,
     "input": [
      "points = []\n",
      "tracks = []\n",
      "with open('tracks.json', 'r') as f:\n",
      "    storms = json.load(f)\n",
      "    for s in storms.keys():\n",
      "        if all(key in storms[s] for key in ['lat','lon','pressure','wind','time']):\n",
      "            # check length of each component is the same\n",
      "            if len(set([len(x) for x in storms[s].values()])) != 1:\n",
      "                print 'unequal lengths of keyed arrays, eg. len(lat) != len(lon)'\n",
      "                continue\n",
      "            time = storms[s]['time']\n",
      "            lat = storms[s]['lat']\n",
      "            lon = storms[s]['lon']\n",
      "            prs = storms[s]['pressure']\n",
      "            wnd = storms[s]['wind']\n",
      "            \n",
      "\n",
      "            fwd = [0.0] # filler value so all arrays same len\n",
      "            # compute forward speed from lonlat and time (result will be one smaller than above arrays)\n",
      "            for x in xrange(1, len(time)):\n",
      "                delta_t = (np.datetime64(time[x]) - np.datetime64(time[x-1])).item().total_seconds()\n",
      "                d = haversine(lat[x-1],lon[x-1],lat[x],lon[x])\n",
      "                #d = 300 * d * math.cos(math.radians((lat[x-1]+lat[x])/2.0)) #TODO this for haversine?               \n",
      "                fwd.append((d/delta_t)*1943.84449) #km/s to knots\n",
      "            \n",
      "            if len(lon) > 2 and len(lat) > 2: # need at least one point with\n",
      "                # skip junk data\n",
      "                if all([w == 0.0 for w in wnd]):\n",
      "                    continue\n",
      "                if all([p == 0.0 for p in prs]):\n",
      "                    continue\n",
      "                track = LineString(zip(lon,lat))\n",
      "\n",
      "                max_wind = max(wnd)\n",
      "                if max_wind < 83:\n",
      "                    continue\n",
      "\n",
      "                print max_wind\n",
      "                # store all the winds, the pressure and forward speeds here to do distribution in next cell\n",
      "                \n",
      "                # only consider if intersects the buffer AND max wind from storm > category 3 (>=96 knots)\n",
      "                if track.intersects(CM9_buffer):\n",
      "                    points.append((lon,lat))\n",
      "                    tracks.append(track)"
     ],
     "language": "python",
     "metadata": {},
     "outputs": []
    },
    {
     "cell_type": "code",
     "collapsed": false,
     "input": [
      "track_line_collection = LineCollection([[m(*xy) for xy in zip(*track.xy)] for track in tracks], linewidths=(0.5),colors=('#000000'))\n",
      "tracks_collection = ax.add_collection(track_line_collection)\n",
      "plt.savefig('003-tracks.png')\n",
      "Image('003-tracks.png')"
     ],
     "language": "python",
     "metadata": {},
     "outputs": []
    }
   ],
   "metadata": {}
  }
 ]
}