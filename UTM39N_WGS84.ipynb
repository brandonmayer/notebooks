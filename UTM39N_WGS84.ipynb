{
 "metadata": {
  "name": "",
  "signature": "sha256:ecc4622ce3969cd73b178525e0e0869ce87dc9ded52af37dddcb1cc5c20bbda6"
 },
 "nbformat": 3,
 "nbformat_minor": 0,
 "worksheets": [
  {
   "cells": [
    {
     "cell_type": "code",
     "collapsed": false,
     "input": [
      "import numpy as np\n",
      "import pyproj\n",
      "from shapely.geometry import Point, MultiPoint, Polygon"
     ],
     "language": "python",
     "metadata": {},
     "outputs": [],
     "prompt_number": 1
    },
    {
     "cell_type": "code",
     "collapsed": false,
     "input": [
      "# setup UTM zone 39N projection (http://www.spatialreference.org/ref/epsg/32639/)\n",
      "utm39n = pyproj.Proj('+proj=utm +zone=39 +ellps=WGS84 +datum=WGS84 +units=m +no_defs')"
     ],
     "language": "python",
     "metadata": {},
     "outputs": [],
     "prompt_number": 2
    },
    {
     "cell_type": "code",
     "collapsed": false,
     "input": [
      "# UTM zone 39N coordinates\n",
      "x = (600000.0,630000.0)\n",
      "y = (2920000.0,2950000.0)"
     ],
     "language": "python",
     "metadata": {},
     "outputs": [],
     "prompt_number": 3
    },
    {
     "cell_type": "code",
     "collapsed": false,
     "input": [
      "# UTM zone 39N grid\n",
      "utm39n_coords = zip(*(x.flat for x in np.meshgrid(x,y)))\n",
      "print utm39n_coords"
     ],
     "language": "python",
     "metadata": {},
     "outputs": [
      {
       "output_type": "stream",
       "stream": "stdout",
       "text": [
        "[(600000.0, 2920000.0), (630000.0, 2920000.0), (600000.0, 2950000.0), (630000.0, 2950000.0)]\n"
       ]
      }
     ],
     "prompt_number": 4
    },
    {
     "cell_type": "code",
     "collapsed": false,
     "input": [
      "# MultiPoint geometry\n",
      "utm39n_mp = MultiPoint(utm39n_coords)\n",
      "print utm39n_mp"
     ],
     "language": "python",
     "metadata": {},
     "outputs": [
      {
       "output_type": "stream",
       "stream": "stdout",
       "text": [
        "MULTIPOINT (600000 2920000, 630000 2920000, 600000 2950000, 630000 2950000)\n"
       ]
      }
     ],
     "prompt_number": 5
    },
    {
     "cell_type": "code",
     "collapsed": false,
     "input": [
      "# print bounds (minx, miny, maxx, maxy)\n",
      "print utm39n_mp.bounds"
     ],
     "language": "python",
     "metadata": {},
     "outputs": [
      {
       "output_type": "stream",
       "stream": "stdout",
       "text": [
        "(600000.0, 2920000.0, 630000.0, 2950000.0)\n"
       ]
      }
     ],
     "prompt_number": 6
    },
    {
     "cell_type": "code",
     "collapsed": false,
     "input": [
      "# centroid of MultiPoint (box in this case)\n",
      "utm39n_centroid = utm39n_mp.centroid\n",
      "print Point(zip(*utm39n(*utm39n_centroid.xy,inverse=True)))"
     ],
     "language": "python",
     "metadata": {},
     "outputs": [
      {
       "output_type": "stream",
       "stream": "stdout",
       "text": [
        "POINT (52.15429849530224 26.5309242663309)\n"
       ]
      }
     ],
     "prompt_number": 7
    },
    {
     "cell_type": "code",
     "collapsed": false,
     "input": [
      "# WGS84\n",
      "wgs84_coords = [utm39n(*x,inverse=True) for x in utm39n_coords]\n",
      "print wgs84_coords"
     ],
     "language": "python",
     "metadata": {},
     "outputs": [
      {
       "output_type": "stream",
       "stream": "stdout",
       "text": [
        "[(52.00258368336942, 26.39664523592794), (52.303303627829784, 26.39422214473605), (52.00494017078066, 26.66747923888127), (52.30636649891165, 26.665027442781383)]\n"
       ]
      }
     ],
     "prompt_number": 8
    },
    {
     "cell_type": "code",
     "collapsed": false,
     "input": [
      "# MultiPoint geometry\n",
      "wgs84_mp = MultiPoint(wgs84_coords)\n",
      "print wgs84_mp"
     ],
     "language": "python",
     "metadata": {},
     "outputs": [
      {
       "output_type": "stream",
       "stream": "stdout",
       "text": [
        "MULTIPOINT (52.00258368336942 26.39664523592794, 52.30330362782978 26.39422214473605, 52.00494017078066 26.66747923888127, 52.30636649891165 26.66502744278138)\n"
       ]
      }
     ],
     "prompt_number": 9
    },
    {
     "cell_type": "code",
     "collapsed": false,
     "input": [
      "# print bounds (minx, miny, maxx, maxy)\n",
      "print wgs84_mp.bounds"
     ],
     "language": "python",
     "metadata": {},
     "outputs": [
      {
       "output_type": "stream",
       "stream": "stdout",
       "text": [
        "(52.00258368336942, 26.39422214473605, 52.30636649891165, 26.66747923888127)\n"
       ]
      }
     ],
     "prompt_number": 10
    },
    {
     "cell_type": "code",
     "collapsed": false,
     "input": [
      "# centroid of MultiPoint (box in this case)\n",
      "wgs84_centroid = wgs84_mp.centroid\n",
      "print wgs84_centroid"
     ],
     "language": "python",
     "metadata": {},
     "outputs": [
      {
       "output_type": "stream",
       "stream": "stdout",
       "text": [
        "POINT (52.15429849522287 26.53084351558166)\n"
       ]
      }
     ],
     "prompt_number": 11
    },
    {
     "cell_type": "code",
     "collapsed": false,
     "input": [
      "# distance between\n",
      "a = Point(zip(*utm39n(*utm39n_centroid.xy,inverse=True)))\n",
      "b = wgs84_centroid\n",
      "print a\n",
      "print b"
     ],
     "language": "python",
     "metadata": {},
     "outputs": [
      {
       "output_type": "stream",
       "stream": "stdout",
       "text": [
        "POINT (52.15429849530224 26.5309242663309)\n",
        "POINT (52.15429849522287 26.53084351558166)\n"
       ]
      }
     ],
     "prompt_number": 12
    }
   ],
   "metadata": {}
  }
 ]
}